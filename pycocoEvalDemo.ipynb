{
 "cells": [
  {
   "cell_type": "code",
   "execution_count": 1,
   "metadata": {},
   "outputs": [
    {
     "name": "stdout",
     "output_type": "stream",
     "text": [
      "['__author__', '__builtins__', '__cached__', '__doc__', '__file__', '__loader__', '__name__', '__package__', '__path__', '__spec__']\n"
     ]
    }
   ],
   "source": [
    "import pycocotools\n",
    "print(dir(pycocotools))"
   ]
  },
  {
   "cell_type": "code",
   "execution_count": 72,
   "metadata": {},
   "outputs": [],
   "source": [
    "import datetime as dt\n",
    "import json\n",
    "import logging\n",
    "from typing import Any, Dict\n",
    "\n",
    "from PIL import Image\n",
    "import requests\n",
    "from shapely import wkt\n",
    "from shapely.geometry import Polygon\n",
    "\n",
    "def from_json(labeled_data, coco_output, label_format='XY', human_prediction= False):\n",
    "    \"Writes labelbox JSON export into MS COCO format.\"\n",
    "    # read labelbox JSON output\n",
    "    with open(labeled_data, 'r') as file_handle:\n",
    "        label_data = json.loads(file_handle.read())\n",
    "\n",
    "    # setup COCO dataset container and info\n",
    "    coco = make_coco_metadata(label_data[0]['Project Name'], label_data[0]['Created By'],)\n",
    "\n",
    "    for data in label_data:\n",
    "        # Download and get image name\n",
    "        try:\n",
    "            add_label(coco, data['ID'], data['Labeled Data'], data['Label'], label_format, human_prediction)\n",
    "        except requests.exceptions.MissingSchema as exc:\n",
    "            LOGGER.warning(exc)\n",
    "            continue\n",
    "        except requests.exceptions.ConnectionError:\n",
    "            LOGGER.warning('Failed to fetch image from %s, skipping', data['Labeled Data'])\n",
    "            continue\n",
    "            \n",
    "    with open(coco_output, 'w+') as file_handle:\n",
    "        file_handle.write(json.dumps(coco))\n",
    "\n",
    "\n",
    "\n",
    "def make_coco_metadata(project_name: str, created_by: str) -> Dict[str, Any]:\n",
    "    \"\"\"Initializes COCO export data structure.\n",
    "    Args:\n",
    "        project_name: name of the project\n",
    "        created_by: email of the project creator\n",
    "    Returns:\n",
    "        The COCO export represented as a dictionary.\n",
    "    \"\"\"\n",
    "    return {\n",
    "        'info': {\n",
    "            'year': dt.datetime.now(dt.timezone.utc).year,\n",
    "            'version': None,\n",
    "            'description': project_name,\n",
    "            'contributor': created_by,\n",
    "            'url': 'labelbox.com',\n",
    "            'date_created': dt.datetime.now(dt.timezone.utc).isoformat()\n",
    "        },\n",
    "        'images': [],\n",
    "        'annotations': [],\n",
    "        'licenses': [],\n",
    "        'categories': []\n",
    "    }\n",
    "\n",
    "\n",
    "def add_label(\n",
    "        coco: Dict[str, Any], label_id: str, image_url: str,\n",
    "        labels: Dict[str, Any], label_format: str , human_prediction =False ):\n",
    "    \"\"\"Incrementally updates COCO export data structure with a new label.\n",
    "    Args:\n",
    "        coco: The current COCO export, will be incrementally updated by this method.\n",
    "        label_id: ID for the instance to write\n",
    "        image_url: URL to download image file from\n",
    "        labels: Labelbox formatted labels to use for generating annotation\n",
    "        label_format: Format of the labeled data. Valid options are: \"WKT\" and\n",
    "                      \"XY\", default is \"WKT\".\n",
    "    Returns:\n",
    "        The updated COCO export represented as a dictionary.\n",
    "    \"\"\"\n",
    "    image = {\n",
    "        \"id\": label_id,\n",
    "        \"file_name\": image_url,\n",
    "        \"license\": None,\n",
    "        \"flickr_url\": image_url,\n",
    "        \"coco_url\": image_url,\n",
    "        \"date_captured\": None,\n",
    "    }\n",
    "    response = requests.get(image_url, stream=True, timeout=1.0)\n",
    "    response.raw.decode_content = True\n",
    "    image['width'], image['height'] = Image.open(response.raw).size\n",
    "\n",
    "    coco['images'].append(image)\n",
    "\n",
    "    # remove classification labels (Skip, etc...)\n",
    "    if not callable(getattr(labels, 'keys', None)):\n",
    "        return\n",
    "\n",
    "    # convert label to COCO Polygon format\n",
    "    for category_name, label_data in labels.items():\n",
    "        try:\n",
    "            # check if label category exists in 'categories' field\n",
    "            category_id = [c['id']\n",
    "                           for c in coco['categories']\n",
    "                           if c['supercategory'] == category_name][0]\n",
    "        except IndexError:\n",
    "            category_id = len(coco['categories']) + 1\n",
    "            category = {\n",
    "                'supercategory': category_name,\n",
    "                'id': category_id,\n",
    "                'name': category_name\n",
    "            }\n",
    "            coco['categories'].append(category)\n",
    "\n",
    "        polygons = _get_polygons(label_format, label_data)\n",
    "        _append_polygons_as_annotations(coco, image, category_id, polygons)\n",
    "\n",
    "\n",
    "def _append_polygons_as_annotations(coco, image, category_id, polygons):\n",
    "    \"Adds `polygons` as annotations in the `coco` export\"\n",
    "    for polygon in polygons:\n",
    "        segmentation = []\n",
    "        for x_val, y_val in polygon.exterior.coords:\n",
    "            segmentation.extend([x_val, y_val])\n",
    "\n",
    "        annotation = {\n",
    "            \"id\": len(coco['annotations']) + 1,\n",
    "            \"image_id\": image['id'],\n",
    "            \"category_id\": category_id,\n",
    "            \"segmentation\": [segmentation],\n",
    "            \"area\": polygon.area,  # float\n",
    "            \"bbox\": [polygon.bounds[0], polygon.bounds[1],\n",
    "                     polygon.bounds[2] - polygon.bounds[0],\n",
    "                     polygon.bounds[3] - polygon.bounds[1]],\n",
    "            \"iscrowd\": 0\n",
    "        }\n",
    "        \n",
    "        coco['annotations'].append(annotation)\n",
    "\n",
    "\n",
    "def _get_polygons(label_format, label_data):\n",
    "    \"Converts segmentation `label: String!` into polygons\"\n",
    "    if label_format == 'WKT':\n",
    "        if isinstance(label_data, list):  # V3\n",
    "            polygons = map(lambda x: wkt.loads(x['geometry']), label_data)\n",
    "        else:  # V2\n",
    "            polygons = wkt.loads(label_data)\n",
    "    elif label_format == 'XY':\n",
    "        polygons = []\n",
    "        for xy_list in label_data:\n",
    "            if 'geometry' in xy_list:  # V3\n",
    "                xy_list = xy_list['geometry']\n",
    "\n",
    "                # V2 and V3\n",
    "                if not isinstance(xy_list, list):\n",
    "                    LOGGER.warning('Could not get an point list to construct polygon, skipping')\n",
    "                    continue\n",
    "            else:  # V2, or non-list\n",
    "                if not isinstance(xy_list, list) or not xy_list or 'x' not in xy_list[0]:\n",
    "                    # skip non xy lists\n",
    "                    LOGGER.warning('Could not get an point list to construct polygon, skipping')\n",
    "                    continue\n",
    "\n",
    "            if len(xy_list) > 2:  # need at least 3 points to make a polygon\n",
    "                polygons.append(Polygon(map(lambda p: (p['x'], p['y']), xy_list)))\n",
    "    else:\n",
    "        exc = UnknownFormatError(label_format=label_format)\n",
    "        LOGGER.exception(exc.message)\n",
    "        raise exc\n",
    "\n",
    "    return polygons"
   ]
  },
  {
   "cell_type": "code",
   "execution_count": null,
   "metadata": {},
   "outputs": [],
   "source": [
    "\n",
    "def generate_predfile(labeled_data, coco_annot_output, label_format='XY'):\n",
    "    \"Writes labelbox JSON export into MS COCO format.\"\n",
    "    # read labelbox JSON output\n",
    "    with open(labeled_data, 'r') as file_handle:\n",
    "        label_data = json.loads(file_handle.read())\n",
    "\n",
    "    # setup COCO dataset container and info\n",
    "    coco = make_coco_metadata(label_data[0]['Project Name'], label_data[0]['Created By'],)\n",
    "\n",
    "    for data in label_data:\n",
    "        # Download and get image name\n",
    "        try:\n",
    "            add_label(coco, data['ID'], data['Labeled Data'], data['Label'], label_format, human_prediction)\n",
    "        except requests.exceptions.MissingSchema as exc:\n",
    "            LOGGER.warning(exc)\n",
    "            continue\n",
    "        except requests.exceptions.ConnectionError:\n",
    "            LOGGER.warning('Failed to fetch image from %s, skipping', data['Labeled Data'])\n",
    "            continue\n",
    "            \n",
    "    with open(coco_output, 'w+') as file_handle:\n",
    "        file_handle.write(json.dumps(coco))\n",
    "\n",
    "def add_label(\n",
    "        coco: Dict[str, Any], label_id: str, image_url: str,\n",
    "        labels: Dict[str, Any], label_format: str ):\n",
    "    \"\"\"Incrementally updates COCO export data structure with a new label.\n",
    "    Args:\n",
    "        coco: The current COCO export, will be incrementally updated by this method.\n",
    "        label_id: ID for the instance to write\n",
    "        image_url: URL to download image file from\n",
    "        labels: Labelbox formatted labels to use for generating annotation\n",
    "        label_format: Format of the labeled data. Valid options are: \"WKT\" and\n",
    "                      \"XY\", default is \"WKT\".\n",
    "    Returns:\n",
    "        The updated COCO export represented as a dictionary.\n",
    "    \"\"\"\n",
    "    image = {\n",
    "        \"id\": label_id,\n",
    "        \"file_name\": image_url,\n",
    "        \"license\": None,\n",
    "        \"flickr_url\": image_url,\n",
    "        \"coco_url\": image_url,\n",
    "        \"date_captured\": None,\n",
    "    }\n",
    "    \n",
    "    \n",
    "    response = requests.get(image_url, stream=True, timeout=1.0)\n",
    "    response.raw.decode_content = True\n",
    "    image['width'], image['height'] = Image.open(response.raw).size\n",
    "\n",
    "    coco['images'].append(image)\n",
    "\n",
    "    # remove classification labels (Skip, etc...)\n",
    "    if not callable(getattr(labels, 'keys', None)):\n",
    "        return\n",
    "\n",
    "    # convert label to COCO Polygon format\n",
    "    for category_name, label_data in labels.items():\n",
    "        try:\n",
    "            # check if label category exists in 'categories' field\n",
    "            category_id = [c['id']\n",
    "                           for c in coco['categories']\n",
    "                           if c['supercategory'] == category_name][0]\n",
    "        except IndexError:\n",
    "            category_id = len(coco['categories']) + 1\n",
    "            category = {\n",
    "                'supercategory': category_name,\n",
    "                'id': category_id,\n",
    "                'name': category_name\n",
    "            }\n",
    "            coco['categories'].append(category)\n",
    "\n",
    "        polygons = _get_polygons(label_format, label_data)\n",
    "        _append_polygons_as_annotations(coco, image, category_id, polygons)\n"
   ]
  },
  {
   "cell_type": "code",
   "execution_count": 62,
   "metadata": {},
   "outputs": [],
   "source": [
    "json_dir='../comparison'\n",
    "json_name='testexport'\n",
    "json_output='testexportcoco'\n",
    "from_json('%s/%s.json'%(json_dir, json_name), '%s/%s.json'%(json_dir, json_output), label_format='XY')\n",
    "\n"
   ]
  },
  {
   "cell_type": "code",
   "execution_count": 63,
   "metadata": {},
   "outputs": [],
   "source": [
    "from_json('../comparison/testexport.json' , '../comparison/testexport_humanannot.json',human_prediction =True )"
   ]
  },
  {
   "cell_type": "code",
   "execution_count": 40,
   "metadata": {
    "scrolled": true
   },
   "outputs": [],
   "source": [
    "%matplotlib inline\n",
    "import matplotlib.pyplot as plt\n",
    "from pycocotools.coco import COCO\n",
    "from pycocotools.cocoeval import COCOeval\n",
    "import numpy as np\n",
    "import skimage.io as io\n",
    "import pylab\n",
    "pylab.rcParams['figure.figsize'] = (10.0, 8.0)"
   ]
  },
  {
   "cell_type": "code",
   "execution_count": 41,
   "metadata": {},
   "outputs": [
    {
     "name": "stdout",
     "output_type": "stream",
     "text": [
      "Running demo for *bbox* results.\n"
     ]
    }
   ],
   "source": [
    "annType = 'bbox'#specify type here\n",
    "prefix = 'person_keypoints' if annType=='keypoints' else 'instances'\n",
    "print ('Running demo for *%s* results.'%(annType))"
   ]
  },
  {
   "cell_type": "code",
   "execution_count": 70,
   "metadata": {},
   "outputs": [
    {
     "name": "stdout",
     "output_type": "stream",
     "text": [
      "loading annotations into memory...\n",
      "Done (t=0.08s)\n",
      "creating index...\n",
      "index created!\n"
     ]
    }
   ],
   "source": [
    "#initialize COCO ground truth api\n",
    "dataDir='../comparison'\n",
    "dataType='testexportcoco'\n",
    "annFile = '%s/%s.json'%(dataDir,dataType)\n",
    "cocoGt=COCO(annFile)"
   ]
  },
  {
   "cell_type": "code",
   "execution_count": 71,
   "metadata": {},
   "outputs": [
    {
     "name": "stdout",
     "output_type": "stream",
     "text": [
      "Loading and preparing results...\n"
     ]
    },
    {
     "ename": "AssertionError",
     "evalue": "results in not an array of objects",
     "output_type": "error",
     "traceback": [
      "\u001b[0;31m---------------------------------------------------------------------------\u001b[0m",
      "\u001b[0;31mAssertionError\u001b[0m                            Traceback (most recent call last)",
      "\u001b[0;32m<ipython-input-71-2b0be8920b55>\u001b[0m in \u001b[0;36m<module>\u001b[0;34m()\u001b[0m\n\u001b[1;32m      1\u001b[0m \u001b[0;31m#initialize COCO detections api --- fake .json files\u001b[0m\u001b[0;34m\u001b[0m\u001b[0;34m\u001b[0m\u001b[0;34m\u001b[0m\u001b[0m\n\u001b[1;32m      2\u001b[0m \u001b[0mresFile\u001b[0m\u001b[0;34m=\u001b[0m\u001b[0;34m'../comparison/'\u001b[0m\u001b[0;34m\u001b[0m\u001b[0;34m\u001b[0m\u001b[0m\n\u001b[0;32m----> 3\u001b[0;31m \u001b[0mcocoDt\u001b[0m\u001b[0;34m=\u001b[0m\u001b[0mcocoGt\u001b[0m\u001b[0;34m.\u001b[0m\u001b[0mloadRes\u001b[0m\u001b[0;34m(\u001b[0m\u001b[0mannFile\u001b[0m\u001b[0;34m)\u001b[0m\u001b[0;34m\u001b[0m\u001b[0;34m\u001b[0m\u001b[0m\n\u001b[0m",
      "\u001b[0;32m/home/nicolas/.local/lib/python3.6/site-packages/pycocotools/coco.py\u001b[0m in \u001b[0;36mloadRes\u001b[0;34m(self, resFile)\u001b[0m\n\u001b[1;32m    312\u001b[0m         \u001b[0;32melse\u001b[0m\u001b[0;34m:\u001b[0m\u001b[0;34m\u001b[0m\u001b[0;34m\u001b[0m\u001b[0m\n\u001b[1;32m    313\u001b[0m             \u001b[0manns\u001b[0m \u001b[0;34m=\u001b[0m \u001b[0mresFile\u001b[0m\u001b[0;34m\u001b[0m\u001b[0;34m\u001b[0m\u001b[0m\n\u001b[0;32m--> 314\u001b[0;31m         \u001b[0;32massert\u001b[0m \u001b[0mtype\u001b[0m\u001b[0;34m(\u001b[0m\u001b[0manns\u001b[0m\u001b[0;34m)\u001b[0m \u001b[0;34m==\u001b[0m \u001b[0mlist\u001b[0m\u001b[0;34m,\u001b[0m \u001b[0;34m'results in not an array of objects'\u001b[0m\u001b[0;34m\u001b[0m\u001b[0;34m\u001b[0m\u001b[0m\n\u001b[0m\u001b[1;32m    315\u001b[0m         \u001b[0mannsImgIds\u001b[0m \u001b[0;34m=\u001b[0m \u001b[0;34m[\u001b[0m\u001b[0mann\u001b[0m\u001b[0;34m[\u001b[0m\u001b[0;34m'image_id'\u001b[0m\u001b[0;34m]\u001b[0m \u001b[0;32mfor\u001b[0m \u001b[0mann\u001b[0m \u001b[0;32min\u001b[0m \u001b[0manns\u001b[0m\u001b[0;34m]\u001b[0m\u001b[0;34m\u001b[0m\u001b[0;34m\u001b[0m\u001b[0m\n\u001b[1;32m    316\u001b[0m         \u001b[0;32massert\u001b[0m \u001b[0mset\u001b[0m\u001b[0;34m(\u001b[0m\u001b[0mannsImgIds\u001b[0m\u001b[0;34m)\u001b[0m \u001b[0;34m==\u001b[0m \u001b[0;34m(\u001b[0m\u001b[0mset\u001b[0m\u001b[0;34m(\u001b[0m\u001b[0mannsImgIds\u001b[0m\u001b[0;34m)\u001b[0m \u001b[0;34m&\u001b[0m \u001b[0mset\u001b[0m\u001b[0;34m(\u001b[0m\u001b[0mself\u001b[0m\u001b[0;34m.\u001b[0m\u001b[0mgetImgIds\u001b[0m\u001b[0;34m(\u001b[0m\u001b[0;34m)\u001b[0m\u001b[0;34m)\u001b[0m\u001b[0;34m)\u001b[0m\u001b[0;34m,\u001b[0m\u001b[0;31m \u001b[0m\u001b[0;31m\\\u001b[0m\u001b[0;34m\u001b[0m\u001b[0;34m\u001b[0m\u001b[0m\n",
      "\u001b[0;31mAssertionError\u001b[0m: results in not an array of objects"
     ]
    }
   ],
   "source": [
    "#initialize COCO detections api --- fake .json files\n",
    "resFile='../comparison/'\n",
    "cocoDt=cocoGt.loadRes(annFile)"
   ]
  },
  {
   "cell_type": "code",
   "execution_count": 68,
   "metadata": {},
   "outputs": [],
   "source": [
    "imgIds=sorted(cocoGt.getImgIds())\n",
    "imgIds=imgIds[0:100]\n",
    "imgId = imgIds[np.random.randint(100)]"
   ]
  },
  {
   "cell_type": "code",
   "execution_count": 45,
   "metadata": {
    "scrolled": true
   },
   "outputs": [
    {
     "name": "stdout",
     "output_type": "stream",
     "text": [
      "Running per image evaluation...\n",
      "Evaluate annotation type *bbox*\n"
     ]
    },
    {
     "ename": "KeyError",
     "evalue": "'score'",
     "output_type": "error",
     "traceback": [
      "\u001b[0;31m---------------------------------------------------------------------------\u001b[0m",
      "\u001b[0;31mKeyError\u001b[0m                                  Traceback (most recent call last)",
      "\u001b[0;32m<ipython-input-45-5ee8f95728af>\u001b[0m in \u001b[0;36m<module>\u001b[0;34m()\u001b[0m\n\u001b[1;32m      2\u001b[0m \u001b[0mcocoEval\u001b[0m \u001b[0;34m=\u001b[0m \u001b[0mCOCOeval\u001b[0m\u001b[0;34m(\u001b[0m\u001b[0mcocoGt\u001b[0m\u001b[0;34m,\u001b[0m\u001b[0mcocoGt2\u001b[0m\u001b[0;34m,\u001b[0m\u001b[0mannType\u001b[0m\u001b[0;34m)\u001b[0m\u001b[0;34m\u001b[0m\u001b[0;34m\u001b[0m\u001b[0m\n\u001b[1;32m      3\u001b[0m \u001b[0mcocoEval\u001b[0m\u001b[0;34m.\u001b[0m\u001b[0mparams\u001b[0m\u001b[0;34m.\u001b[0m\u001b[0mimgIds\u001b[0m \u001b[0;34m=\u001b[0m \u001b[0mimgIds\u001b[0m\u001b[0;34m\u001b[0m\u001b[0;34m\u001b[0m\u001b[0m\n\u001b[0;32m----> 4\u001b[0;31m \u001b[0mcocoEval\u001b[0m\u001b[0;34m.\u001b[0m\u001b[0mevaluate\u001b[0m\u001b[0;34m(\u001b[0m\u001b[0;34m)\u001b[0m\u001b[0;34m\u001b[0m\u001b[0;34m\u001b[0m\u001b[0m\n\u001b[0m\u001b[1;32m      5\u001b[0m \u001b[0mcocoEval\u001b[0m\u001b[0;34m.\u001b[0m\u001b[0maccumulate\u001b[0m\u001b[0;34m(\u001b[0m\u001b[0;34m)\u001b[0m\u001b[0;34m\u001b[0m\u001b[0;34m\u001b[0m\u001b[0m\n\u001b[1;32m      6\u001b[0m \u001b[0mcocoEval\u001b[0m\u001b[0;34m.\u001b[0m\u001b[0msummarize\u001b[0m\u001b[0;34m(\u001b[0m\u001b[0;34m)\u001b[0m\u001b[0;34m\u001b[0m\u001b[0;34m\u001b[0m\u001b[0m\n",
      "\u001b[0;32m/home/nicolas/.local/lib/python3.6/site-packages/pycocotools/cocoeval.py\u001b[0m in \u001b[0;36mevaluate\u001b[0;34m(self)\u001b[0m\n\u001b[1;32m    148\u001b[0m             \u001b[0mcomputeIoU\u001b[0m \u001b[0;34m=\u001b[0m \u001b[0mself\u001b[0m\u001b[0;34m.\u001b[0m\u001b[0mcomputeOks\u001b[0m\u001b[0;34m\u001b[0m\u001b[0;34m\u001b[0m\u001b[0m\n\u001b[1;32m    149\u001b[0m         self.ious = {(imgId, catId): computeIoU(imgId, catId) \\\n\u001b[0;32m--> 150\u001b[0;31m                         \u001b[0;32mfor\u001b[0m \u001b[0mimgId\u001b[0m \u001b[0;32min\u001b[0m \u001b[0mp\u001b[0m\u001b[0;34m.\u001b[0m\u001b[0mimgIds\u001b[0m\u001b[0;34m\u001b[0m\u001b[0;34m\u001b[0m\u001b[0m\n\u001b[0m\u001b[1;32m    151\u001b[0m                         for catId in catIds}\n\u001b[1;32m    152\u001b[0m \u001b[0;34m\u001b[0m\u001b[0m\n",
      "\u001b[0;32m/home/nicolas/.local/lib/python3.6/site-packages/pycocotools/cocoeval.py\u001b[0m in \u001b[0;36m<dictcomp>\u001b[0;34m(.0)\u001b[0m\n\u001b[1;32m    149\u001b[0m         self.ious = {(imgId, catId): computeIoU(imgId, catId) \\\n\u001b[1;32m    150\u001b[0m                         \u001b[0;32mfor\u001b[0m \u001b[0mimgId\u001b[0m \u001b[0;32min\u001b[0m \u001b[0mp\u001b[0m\u001b[0;34m.\u001b[0m\u001b[0mimgIds\u001b[0m\u001b[0;34m\u001b[0m\u001b[0;34m\u001b[0m\u001b[0m\n\u001b[0;32m--> 151\u001b[0;31m                         for catId in catIds}\n\u001b[0m\u001b[1;32m    152\u001b[0m \u001b[0;34m\u001b[0m\u001b[0m\n\u001b[1;32m    153\u001b[0m         \u001b[0mevaluateImg\u001b[0m \u001b[0;34m=\u001b[0m \u001b[0mself\u001b[0m\u001b[0;34m.\u001b[0m\u001b[0mevaluateImg\u001b[0m\u001b[0;34m\u001b[0m\u001b[0;34m\u001b[0m\u001b[0m\n",
      "\u001b[0;32m/home/nicolas/.local/lib/python3.6/site-packages/pycocotools/cocoeval.py\u001b[0m in \u001b[0;36mcomputeIoU\u001b[0;34m(self, imgId, catId)\u001b[0m\n\u001b[1;32m    172\u001b[0m         \u001b[0;32mif\u001b[0m \u001b[0mlen\u001b[0m\u001b[0;34m(\u001b[0m\u001b[0mgt\u001b[0m\u001b[0;34m)\u001b[0m \u001b[0;34m==\u001b[0m \u001b[0;36m0\u001b[0m \u001b[0;32mand\u001b[0m \u001b[0mlen\u001b[0m\u001b[0;34m(\u001b[0m\u001b[0mdt\u001b[0m\u001b[0;34m)\u001b[0m \u001b[0;34m==\u001b[0m\u001b[0;36m0\u001b[0m\u001b[0;34m:\u001b[0m\u001b[0;34m\u001b[0m\u001b[0;34m\u001b[0m\u001b[0m\n\u001b[1;32m    173\u001b[0m             \u001b[0;32mreturn\u001b[0m \u001b[0;34m[\u001b[0m\u001b[0;34m]\u001b[0m\u001b[0;34m\u001b[0m\u001b[0;34m\u001b[0m\u001b[0m\n\u001b[0;32m--> 174\u001b[0;31m         \u001b[0minds\u001b[0m \u001b[0;34m=\u001b[0m \u001b[0mnp\u001b[0m\u001b[0;34m.\u001b[0m\u001b[0margsort\u001b[0m\u001b[0;34m(\u001b[0m\u001b[0;34m[\u001b[0m\u001b[0;34m-\u001b[0m\u001b[0md\u001b[0m\u001b[0;34m[\u001b[0m\u001b[0;34m'score'\u001b[0m\u001b[0;34m]\u001b[0m \u001b[0;32mfor\u001b[0m \u001b[0md\u001b[0m \u001b[0;32min\u001b[0m \u001b[0mdt\u001b[0m\u001b[0;34m]\u001b[0m\u001b[0;34m,\u001b[0m \u001b[0mkind\u001b[0m\u001b[0;34m=\u001b[0m\u001b[0;34m'mergesort'\u001b[0m\u001b[0;34m)\u001b[0m\u001b[0;34m\u001b[0m\u001b[0;34m\u001b[0m\u001b[0m\n\u001b[0m\u001b[1;32m    175\u001b[0m         \u001b[0mdt\u001b[0m \u001b[0;34m=\u001b[0m \u001b[0;34m[\u001b[0m\u001b[0mdt\u001b[0m\u001b[0;34m[\u001b[0m\u001b[0mi\u001b[0m\u001b[0;34m]\u001b[0m \u001b[0;32mfor\u001b[0m \u001b[0mi\u001b[0m \u001b[0;32min\u001b[0m \u001b[0minds\u001b[0m\u001b[0;34m]\u001b[0m\u001b[0;34m\u001b[0m\u001b[0;34m\u001b[0m\u001b[0m\n\u001b[1;32m    176\u001b[0m         \u001b[0;32mif\u001b[0m \u001b[0mlen\u001b[0m\u001b[0;34m(\u001b[0m\u001b[0mdt\u001b[0m\u001b[0;34m)\u001b[0m \u001b[0;34m>\u001b[0m \u001b[0mp\u001b[0m\u001b[0;34m.\u001b[0m\u001b[0mmaxDets\u001b[0m\u001b[0;34m[\u001b[0m\u001b[0;34m-\u001b[0m\u001b[0;36m1\u001b[0m\u001b[0;34m]\u001b[0m\u001b[0;34m:\u001b[0m\u001b[0;34m\u001b[0m\u001b[0;34m\u001b[0m\u001b[0m\n",
      "\u001b[0;32m/home/nicolas/.local/lib/python3.6/site-packages/pycocotools/cocoeval.py\u001b[0m in \u001b[0;36m<listcomp>\u001b[0;34m(.0)\u001b[0m\n\u001b[1;32m    172\u001b[0m         \u001b[0;32mif\u001b[0m \u001b[0mlen\u001b[0m\u001b[0;34m(\u001b[0m\u001b[0mgt\u001b[0m\u001b[0;34m)\u001b[0m \u001b[0;34m==\u001b[0m \u001b[0;36m0\u001b[0m \u001b[0;32mand\u001b[0m \u001b[0mlen\u001b[0m\u001b[0;34m(\u001b[0m\u001b[0mdt\u001b[0m\u001b[0;34m)\u001b[0m \u001b[0;34m==\u001b[0m\u001b[0;36m0\u001b[0m\u001b[0;34m:\u001b[0m\u001b[0;34m\u001b[0m\u001b[0;34m\u001b[0m\u001b[0m\n\u001b[1;32m    173\u001b[0m             \u001b[0;32mreturn\u001b[0m \u001b[0;34m[\u001b[0m\u001b[0;34m]\u001b[0m\u001b[0;34m\u001b[0m\u001b[0;34m\u001b[0m\u001b[0m\n\u001b[0;32m--> 174\u001b[0;31m         \u001b[0minds\u001b[0m \u001b[0;34m=\u001b[0m \u001b[0mnp\u001b[0m\u001b[0;34m.\u001b[0m\u001b[0margsort\u001b[0m\u001b[0;34m(\u001b[0m\u001b[0;34m[\u001b[0m\u001b[0;34m-\u001b[0m\u001b[0md\u001b[0m\u001b[0;34m[\u001b[0m\u001b[0;34m'score'\u001b[0m\u001b[0;34m]\u001b[0m \u001b[0;32mfor\u001b[0m \u001b[0md\u001b[0m \u001b[0;32min\u001b[0m \u001b[0mdt\u001b[0m\u001b[0;34m]\u001b[0m\u001b[0;34m,\u001b[0m \u001b[0mkind\u001b[0m\u001b[0;34m=\u001b[0m\u001b[0;34m'mergesort'\u001b[0m\u001b[0;34m)\u001b[0m\u001b[0;34m\u001b[0m\u001b[0;34m\u001b[0m\u001b[0m\n\u001b[0m\u001b[1;32m    175\u001b[0m         \u001b[0mdt\u001b[0m \u001b[0;34m=\u001b[0m \u001b[0;34m[\u001b[0m\u001b[0mdt\u001b[0m\u001b[0;34m[\u001b[0m\u001b[0mi\u001b[0m\u001b[0;34m]\u001b[0m \u001b[0;32mfor\u001b[0m \u001b[0mi\u001b[0m \u001b[0;32min\u001b[0m \u001b[0minds\u001b[0m\u001b[0;34m]\u001b[0m\u001b[0;34m\u001b[0m\u001b[0;34m\u001b[0m\u001b[0m\n\u001b[1;32m    176\u001b[0m         \u001b[0;32mif\u001b[0m \u001b[0mlen\u001b[0m\u001b[0;34m(\u001b[0m\u001b[0mdt\u001b[0m\u001b[0;34m)\u001b[0m \u001b[0;34m>\u001b[0m \u001b[0mp\u001b[0m\u001b[0;34m.\u001b[0m\u001b[0mmaxDets\u001b[0m\u001b[0;34m[\u001b[0m\u001b[0;34m-\u001b[0m\u001b[0;36m1\u001b[0m\u001b[0;34m]\u001b[0m\u001b[0;34m:\u001b[0m\u001b[0;34m\u001b[0m\u001b[0;34m\u001b[0m\u001b[0m\n",
      "\u001b[0;31mKeyError\u001b[0m: 'score'"
     ]
    }
   ],
   "source": [
    "# running evaluation\n",
    "cocoEval = COCOeval(cocoGt,cocoGt2,annType)\n",
    "cocoEval.params.imgIds = imgIds\n",
    "cocoEval.evaluate()\n",
    "cocoEval.accumulate()\n",
    "cocoEval.summarize()"
   ]
  },
  {
   "cell_type": "code",
   "execution_count": null,
   "metadata": {},
   "outputs": [],
   "source": []
  },
  {
   "cell_type": "code",
   "execution_count": null,
   "metadata": {},
   "outputs": [],
   "source": []
  }
 ],
 "metadata": {
  "kernelspec": {
   "display_name": "Python 3",
   "language": "python",
   "name": "python3"
  },
  "language_info": {
   "codemirror_mode": {
    "name": "ipython",
    "version": 3
   },
   "file_extension": ".py",
   "mimetype": "text/x-python",
   "name": "python",
   "nbconvert_exporter": "python",
   "pygments_lexer": "ipython3",
   "version": "3.6.8"
  }
 },
 "nbformat": 4,
 "nbformat_minor": 1
}
