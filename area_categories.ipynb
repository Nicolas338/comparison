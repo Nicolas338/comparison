{
 "cells": [
  {
   "cell_type": "code",
   "execution_count": 1,
   "metadata": {},
   "outputs": [],
   "source": [
    "import json "
   ]
  },
  {
   "cell_type": "code",
   "execution_count": 73,
   "metadata": {},
   "outputs": [],
   "source": [
    "with open('./testexportcoco.json', 'r') as file_handle:\n",
    "        label_data = json.loads(file_handle.read())\n",
    "        #print (label_data['categories'])\n",
    "        #print (label_data['annotations'])\n",
    "        #print (label_data.keys()) "
   ]
  },
  {
   "cell_type": "code",
   "execution_count": 74,
   "metadata": {
    "scrolled": false
   },
   "outputs": [],
   "source": [
    "result = {}\n",
    "for annotation in label_data['annotations']:\n",
    "    #if annotation['image_id'] == 'cju17cowo0s7y0855vzvtq8da':\n",
    "       # print(annotation)\n",
    "    if  annotation['image_id'] not in result:\n",
    "        result[annotation['image_id']]  = {1:0,2:0,3:0}\n",
    "    result[annotation['image_id']][annotation['category_id']] += annotation['area']\n",
    "#print (result)"
   ]
  },
  {
   "cell_type": "code",
   "execution_count": 75,
   "metadata": {},
   "outputs": [
    {
     "name": "stdout",
     "output_type": "stream",
     "text": [
      "                           vesicle      root  arbuscle  colonization range\n",
      "cju17cowo0s7y0855vzvtq8da  10155.0  290304.0       0.0            0.034981\n",
      "cju17tbnr0su40878mrxq49nz  13201.0  270160.0       0.0            0.048864\n",
      "cju17z93urapc08351n0d2qk7  25314.0  282624.0       0.0            0.089568\n",
      "cju18icidrzu509882ue6cacb   9801.0  264192.0    5852.0            0.059249\n",
      "cju19k5z0srad0988drc3nm0g   9698.0  293376.0   13051.0            0.077542\n",
      "cju1a0ck12pg00799eke3h6bn  14969.0  281088.0   12930.0            0.099254\n",
      "cju1a5je5sud30835oky6st2e   9745.0  340992.0    2337.0            0.035432\n",
      "cju1ciqzsqhwp0993auwjm9n6  15632.0  153600.0    3034.0            0.121523\n",
      "cju1t7dif2m4q08358hmm1byb  23555.0  192000.0    1353.0            0.129729\n",
      "cju1tcxofce1e0878y7c5tosh  11379.0  294912.0    5728.0            0.058007\n",
      "cju8h85yhw6vl0817quzra18h   5447.0  308736.0   10512.0            0.051691\n",
      "cjub0nmbogi3s081840uua18m   2028.0  297984.0   10579.0            0.042308\n",
      "cjub0q9b9g9k109873sqw3q7k   1680.0  340770.0    8242.0            0.029116\n",
      "cjub0stkwgax10987zdn9mis7   1680.0  285696.0    9511.0            0.039171\n",
      "cjub0xszbgktn0871t0yomgd3  27691.0  304128.0    9656.0            0.122800\n",
      "cjudswrhnj3310987h5um7yko  25232.0  322560.0    7997.0            0.103016\n",
      "cjudt0tlsj4yr0817z6zgd0rg  24972.0  302592.0    7513.0            0.107356\n",
      "cjudt5z3ljajc0755l8pf1rxh   2527.0  322560.0   18664.0            0.065696\n",
      "cjudtg0mujnr60818bdzyjya7      0.0  263424.0   29286.0            0.111174\n",
      "cjue9dl3wucw70817swblygym      0.0  324096.0   17320.0            0.053441\n",
      "cjue9qna7uj0h0755yr2e35iq   1518.0  290304.0   19750.0            0.073261\n",
      "cjue9xnfmumne0755tzhbxpus   3277.0  356352.0   18085.0            0.059946\n",
      "cjuea7ci2v62s08719hcwso4c  23398.0  274944.0    8824.0            0.117195\n",
      "cjueqq2d223x30998b2uyz6ph   5724.0  281088.0   16299.0            0.078349\n",
      "cjuer7pvq2i0x09442fdtq5aw  34258.0  322560.0   11433.0            0.141651\n",
      "cjufr5rmfn8q20998iontwxeo  36359.0  314880.0   13170.0            0.157295\n",
      "cjufrhxg4rn6x0817deofnkky  28496.0  276480.0   15212.0            0.158087\n",
      "cjufrkciancke0998w7giozvc   8932.0  199680.0     208.0            0.045773\n",
      "cjufrm81js4ps0818wlcxv7hz   9341.0  334848.0       0.0            0.027896\n",
      "cjufrotwlrnum0755c6e1l715  26701.0  268800.0       0.0            0.099334\n",
      "...                            ...       ...       ...                 ...\n",
      "cjwunbt9mmezu0891naob1k6r  17434.5  414060.0    5397.0            0.055141\n",
      "cjwuni5ag9sf20800o6ijacca  12028.0  664780.0    2076.0            0.021216\n",
      "cjwunp0oca9ej0890txbl5oxi  24780.5  584010.0   16868.0            0.071315\n",
      "cjwunzonumzmn08441p1n91hy  42132.0  429350.0   16021.5            0.135445\n",
      "cjwuo8ducn5qf0844n69c0qr9  31939.0  450177.0   22456.5            0.120831\n",
      "cjwuo93wzn65p08448ochp73i   2752.0  396288.0       0.0            0.006944\n",
      "cjwup336cbrea0860eis5utns  30009.0  543744.0   17965.0            0.088229\n",
      "cjwup3666b5yf0890d0ga6082   1512.0  278016.0   12124.0            0.049048\n",
      "cjwup37m5b5zd0890xqurgkjc  17589.0  278378.0   10447.0            0.100712\n",
      "cjwup3947b8ps0811c64vij68  10307.0  446394.0   13912.0            0.054255\n",
      "cjwup3avqbrk90860i4fs1wiq      0.0  579000.0    7960.0            0.013748\n",
      "cjwup3k0kau2x0800zdixw408      0.0  381424.0       0.0            0.000000\n",
      "cjwup3meybhgh0836o2nghhpq  21489.0  274944.0    7375.5            0.104983\n",
      "cjwup3o1snm6g0891n37iewza   6795.0  501032.0    8291.0            0.030110\n",
      "cjwup3pcyno4e0844sehto1u4  25115.0  328600.0    8679.5            0.102844\n",
      "cjwup3qmbb6b70890ievavlwt  38266.0  415874.0    9169.0            0.114061\n",
      "cjwup3rtob2i00a26a2a75kac  22162.0  412566.0   29143.0            0.124356\n",
      "cjwup3tdubhmd0836wodt5on8   2135.0  533544.0    2879.0            0.009398\n",
      "cjwup3uo2aube0800yewbn51d  69682.0  386791.0   12782.0            0.213200\n",
      "cjwup3vvwbhne0836m9sxiy7g   5904.0  267632.0    5208.0            0.041520\n",
      "cjwup3x7baudm0800nv7l9st5      0.0  513480.0   10673.0            0.020786\n",
      "cjwup3ygsnmdu0891mgbdrzu9   1954.0  455544.0    8269.0            0.022441\n",
      "cjwup5ab6b9uw0811f8268j0n      0.0  565547.0    4522.0            0.007996\n",
      "cjwup5c5obsnv0860jqr0ir3i  46015.0  329872.0   19027.0            0.197173\n",
      "cjwup5dr4b39o0a26c440irac   5345.0  621278.0    1693.0            0.011328\n",
      "cjwup5fdfb7640890ysogsouv   5392.0  416950.0    7827.0            0.031704\n",
      "cjwup5guzb7780890xbbl7h9m  30652.0  465408.0    7426.0            0.081816\n",
      "cjwup5i6gb3az0a26cy5hexwu  31150.0  392684.0   13963.0            0.114884\n",
      "cjwup5jjbb7960890s4aps8tt  67927.0  367104.0   15058.0            0.226053\n",
      "cjwup5l2nbsrv0860sm63whge  11288.0  548352.0    2963.0            0.025989\n",
      "\n",
      "[210 rows x 4 columns]\n"
     ]
    },
    {
     "data": {
      "text/plain": [
       "array([[<matplotlib.axes._subplots.AxesSubplot object at 0x7f17ebc05a20>,\n",
       "        <matplotlib.axes._subplots.AxesSubplot object at 0x7f17ebd9b780>],\n",
       "       [<matplotlib.axes._subplots.AxesSubplot object at 0x7f17ebdcd3c8>,\n",
       "        <matplotlib.axes._subplots.AxesSubplot object at 0x7f18012ea908>]],\n",
       "      dtype=object)"
      ]
     },
     "execution_count": 75,
     "metadata": {},
     "output_type": "execute_result"
    },
    {
     "data": {
      "image/png": "[encoded data removed]",
      "text/plain": [
       "<Figure size 432x288 with 4 Axes>"
      ]
     },
     "metadata": {},
     "output_type": "display_data"
    }
   ],
   "source": [
    "import pandas as pd\n",
    "\n",
    "\n",
    "df = pd.DataFrame.from_dict(result, orient='index' )\n",
    "df.columns  = ['vesicle','root','arbuscle']\n",
    "df ['colonization range'] = (df.arbuscle + df.vesicle) / df.root\n",
    "print(df)\n",
    "\n",
    "df[['vesicle','root','arbuscle']].hist()"
   ]
  },
  {
   "cell_type": "code",
   "execution_count": null,
   "metadata": {},
   "outputs": [],
   "source": []
  },
  {
   "cell_type": "code",
   "execution_count": null,
   "metadata": {},
   "outputs": [],
   "source": []
  }
 ],
 "metadata": {
  "kernelspec": {
   "display_name": "Python 3",
   "language": "python",
   "name": "python3"
  },
  "language_info": {
   "codemirror_mode": {
    "name": "ipython",
    "version": 3
   },
   "file_extension": ".py",
   "mimetype": "text/x-python",
   "name": "python",
   "nbconvert_exporter": "python",
   "pygments_lexer": "ipython3",
   "version": "3.6.8"
  }
 },
 "nbformat": 4,
 "nbformat_minor": 2
}
